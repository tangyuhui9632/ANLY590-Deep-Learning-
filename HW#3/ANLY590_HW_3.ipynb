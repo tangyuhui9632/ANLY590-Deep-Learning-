{
  "nbformat": 4,
  "nbformat_minor": 0,
  "metadata": {
    "colab": {
      "name": "ANLY590_HW#3.ipynb",
      "provenance": [],
      "collapsed_sections": [],
      "machine_shape": "hm"
    },
    "kernelspec": {
      "name": "python3",
      "display_name": "Python 3"
    },
    "accelerator": "GPU"
  },
  "cells": [
    {
      "cell_type": "code",
      "metadata": {
        "id": "ama3sbz2azEv",
        "colab_type": "code",
        "colab": {}
      },
      "source": [
        ""
      ],
      "execution_count": 0,
      "outputs": []
    },
    {
      "cell_type": "markdown",
      "metadata": {
        "id": "TC2wrqFqMCQO",
        "colab_type": "text"
      },
      "source": [
        "#ANLY590 HW#3\n"
      ]
    },
    {
      "cell_type": "markdown",
      "metadata": {
        "id": "BZClVPQkMOb3",
        "colab_type": "text"
      },
      "source": [
        "#Yuhui Tang"
      ]
    },
    {
      "cell_type": "markdown",
      "metadata": {
        "id": "K3hx2ozUa3Hx",
        "colab_type": "text"
      },
      "source": [
        "# Question 1"
      ]
    },
    {
      "cell_type": "markdown",
      "metadata": {
        "id": "XrU3ck9Ga-B8",
        "colab_type": "text"
      },
      "source": [
        "Build and fit a convolutional autoencoder for the Fashion MNIST dataset.\n",
        "The components of this network will be many of the same pieces we’ve used\n",
        "with convolutional classification networks: Conv2D, MaxPooling, and so on.\n",
        "The encoder part of the network should run the input image through a few\n",
        "convolutional layers of your choice. The decoder part of the network will utilize UpSampling2D to get the representation back to the original image size.\n"
      ]
    },
    {
      "cell_type": "code",
      "metadata": {
        "id": "PW4GWCRVcFHo",
        "colab_type": "code",
        "colab": {
          "base_uri": "https://localhost:8080/",
          "height": 408
        },
        "outputId": "12fc30ab-c1e2-4045-d206-dfddfbbc7f5b"
      },
      "source": [
        "from keras.layers import Input, Dense, Conv2D, MaxPooling2D, UpSampling2D\n",
        "from keras.models import Model\n",
        "from keras import backend as K\n",
        "\n",
        "import matplotlib.pyplot as plt\n",
        "\n",
        "\n",
        "input_img = Input(shape=(28, 28, 1))  # adapt this if using `channels_first` image data format\n",
        "\n",
        "x = Conv2D(16, (3, 3), activation='relu', padding='same')(input_img)\n",
        "x = MaxPooling2D((2, 2), padding='same')(x)\n",
        "x = Conv2D(8, (3, 3), activation='relu', padding='same')(x)\n",
        "x = MaxPooling2D((2, 2), padding='same')(x)\n",
        "x = Conv2D(8, (3, 3), activation='relu', padding='same')(x)\n",
        "encoded = MaxPooling2D((2, 2), padding='same')(x)\n",
        "\n",
        "# at this point the representation is (4, 4, 8) i.e. 128-dimensional\n",
        "\n",
        "x = Conv2D(8, (3, 3), activation='relu', padding='same')(encoded)\n",
        "x = UpSampling2D((2, 2))(x)\n",
        "x = Conv2D(8, (3, 3), activation='relu', padding='same')(x)\n",
        "x = UpSampling2D((2, 2))(x)\n",
        "x = Conv2D(16, (3, 3), activation='relu')(x)\n",
        "x = UpSampling2D((2, 2))(x)\n",
        "decoded = Conv2D(1, (3, 3), activation='sigmoid', padding='same')(x)\n",
        "\n",
        "autoencoder = Model(input_img, decoded)\n",
        "autoencoder.compile(optimizer='adadelta', loss='binary_crossentropy')"
      ],
      "execution_count": 1,
      "outputs": [
        {
          "output_type": "stream",
          "text": [
            "Using TensorFlow backend.\n"
          ],
          "name": "stderr"
        },
        {
          "output_type": "display_data",
          "data": {
            "text/html": [
              "<p style=\"color: red;\">\n",
              "The default version of TensorFlow in Colab will soon switch to TensorFlow 2.x.<br>\n",
              "We recommend you <a href=\"https://www.tensorflow.org/guide/migrate\" target=\"_blank\">upgrade</a> now \n",
              "or ensure your notebook will continue to use TensorFlow 1.x via the <code>%tensorflow_version 1.x</code> magic:\n",
              "<a href=\"https://colab.research.google.com/notebooks/tensorflow_version.ipynb\" target=\"_blank\">more info</a>.</p>\n"
            ],
            "text/plain": [
              "<IPython.core.display.HTML object>"
            ]
          },
          "metadata": {
            "tags": []
          }
        },
        {
          "output_type": "stream",
          "text": [
            "WARNING:tensorflow:From /usr/local/lib/python3.6/dist-packages/keras/backend/tensorflow_backend.py:66: The name tf.get_default_graph is deprecated. Please use tf.compat.v1.get_default_graph instead.\n",
            "\n",
            "WARNING:tensorflow:From /usr/local/lib/python3.6/dist-packages/keras/backend/tensorflow_backend.py:541: The name tf.placeholder is deprecated. Please use tf.compat.v1.placeholder instead.\n",
            "\n",
            "WARNING:tensorflow:From /usr/local/lib/python3.6/dist-packages/keras/backend/tensorflow_backend.py:4432: The name tf.random_uniform is deprecated. Please use tf.random.uniform instead.\n",
            "\n",
            "WARNING:tensorflow:From /usr/local/lib/python3.6/dist-packages/keras/backend/tensorflow_backend.py:4267: The name tf.nn.max_pool is deprecated. Please use tf.nn.max_pool2d instead.\n",
            "\n",
            "WARNING:tensorflow:From /usr/local/lib/python3.6/dist-packages/keras/backend/tensorflow_backend.py:2239: The name tf.image.resize_nearest_neighbor is deprecated. Please use tf.compat.v1.image.resize_nearest_neighbor instead.\n",
            "\n",
            "WARNING:tensorflow:From /usr/local/lib/python3.6/dist-packages/keras/optimizers.py:793: The name tf.train.Optimizer is deprecated. Please use tf.compat.v1.train.Optimizer instead.\n",
            "\n",
            "WARNING:tensorflow:From /usr/local/lib/python3.6/dist-packages/keras/backend/tensorflow_backend.py:3657: The name tf.log is deprecated. Please use tf.math.log instead.\n",
            "\n",
            "WARNING:tensorflow:From /usr/local/lib/python3.6/dist-packages/tensorflow_core/python/ops/nn_impl.py:183: where (from tensorflow.python.ops.array_ops) is deprecated and will be removed in a future version.\n",
            "Instructions for updating:\n",
            "Use tf.where in 2.0, which has the same broadcast rule as np.where\n"
          ],
          "name": "stdout"
        }
      ]
    },
    {
      "cell_type": "code",
      "metadata": {
        "id": "l-e0WXDkcNEa",
        "colab_type": "code",
        "outputId": "306a3321-fc41-49f8-a525-eee6fc65a9fd",
        "colab": {
          "base_uri": "https://localhost:8080/",
          "height": 161
        }
      },
      "source": [
        "from keras.datasets import fashion_mnist\n",
        "import numpy as np\n",
        "\n",
        "(x_train, _), (x_test, _) = fashion_mnist.load_data()\n",
        "\n",
        "x_train = x_train.astype('float32') / 255.\n",
        "x_test = x_test.astype('float32') / 255.\n",
        "x_train = np.reshape(x_train, (len(x_train), 28, 28, 1))  \n",
        "x_test = np.reshape(x_test, (len(x_test), 28, 28, 1)) "
      ],
      "execution_count": 2,
      "outputs": [
        {
          "output_type": "stream",
          "text": [
            "Downloading data from http://fashion-mnist.s3-website.eu-central-1.amazonaws.com/train-labels-idx1-ubyte.gz\n",
            "32768/29515 [=================================] - 0s 3us/step\n",
            "Downloading data from http://fashion-mnist.s3-website.eu-central-1.amazonaws.com/train-images-idx3-ubyte.gz\n",
            "26427392/26421880 [==============================] - 1s 0us/step\n",
            "Downloading data from http://fashion-mnist.s3-website.eu-central-1.amazonaws.com/t10k-labels-idx1-ubyte.gz\n",
            "8192/5148 [===============================================] - 0s 0us/step\n",
            "Downloading data from http://fashion-mnist.s3-website.eu-central-1.amazonaws.com/t10k-images-idx3-ubyte.gz\n",
            "4423680/4422102 [==============================] - 1s 0us/step\n"
          ],
          "name": "stdout"
        }
      ]
    },
    {
      "cell_type": "code",
      "metadata": {
        "id": "99P-a3CWcNBl",
        "colab_type": "code",
        "outputId": "ed7c25df-cc4d-47f0-c800-eafe8de62255",
        "colab": {
          "base_uri": "https://localhost:8080/",
          "height": 829
        }
      },
      "source": [
        "from keras.callbacks import TensorBoard\n",
        "\n",
        "autoencoder.fit(x_train, x_train,\n",
        "        epochs=10,\n",
        "        batch_size=128,\n",
        "        shuffle=True,\n",
        "        validation_data=(x_test, x_test),\n",
        "        callbacks=[TensorBoard(log_dir='/tmp/autoencoder')])\n"
      ],
      "execution_count": 3,
      "outputs": [
        {
          "output_type": "stream",
          "text": [
            "WARNING:tensorflow:From /usr/local/lib/python3.6/dist-packages/keras/backend/tensorflow_backend.py:1033: The name tf.assign_add is deprecated. Please use tf.compat.v1.assign_add instead.\n",
            "\n",
            "WARNING:tensorflow:From /usr/local/lib/python3.6/dist-packages/keras/backend/tensorflow_backend.py:1020: The name tf.assign is deprecated. Please use tf.compat.v1.assign instead.\n",
            "\n",
            "WARNING:tensorflow:From /usr/local/lib/python3.6/dist-packages/keras/backend/tensorflow_backend.py:3005: The name tf.Session is deprecated. Please use tf.compat.v1.Session instead.\n",
            "\n",
            "Train on 60000 samples, validate on 10000 samples\n",
            "WARNING:tensorflow:From /usr/local/lib/python3.6/dist-packages/keras/backend/tensorflow_backend.py:190: The name tf.get_default_session is deprecated. Please use tf.compat.v1.get_default_session instead.\n",
            "\n",
            "WARNING:tensorflow:From /usr/local/lib/python3.6/dist-packages/keras/backend/tensorflow_backend.py:197: The name tf.ConfigProto is deprecated. Please use tf.compat.v1.ConfigProto instead.\n",
            "\n",
            "WARNING:tensorflow:From /usr/local/lib/python3.6/dist-packages/keras/backend/tensorflow_backend.py:207: The name tf.global_variables is deprecated. Please use tf.compat.v1.global_variables instead.\n",
            "\n",
            "WARNING:tensorflow:From /usr/local/lib/python3.6/dist-packages/keras/backend/tensorflow_backend.py:216: The name tf.is_variable_initialized is deprecated. Please use tf.compat.v1.is_variable_initialized instead.\n",
            "\n",
            "WARNING:tensorflow:From /usr/local/lib/python3.6/dist-packages/keras/backend/tensorflow_backend.py:223: The name tf.variables_initializer is deprecated. Please use tf.compat.v1.variables_initializer instead.\n",
            "\n",
            "WARNING:tensorflow:From /usr/local/lib/python3.6/dist-packages/keras/callbacks.py:1122: The name tf.summary.merge_all is deprecated. Please use tf.compat.v1.summary.merge_all instead.\n",
            "\n",
            "WARNING:tensorflow:From /usr/local/lib/python3.6/dist-packages/keras/callbacks.py:1125: The name tf.summary.FileWriter is deprecated. Please use tf.compat.v1.summary.FileWriter instead.\n",
            "\n",
            "Epoch 1/10\n",
            "60000/60000 [==============================] - 11s 175us/step - loss: 0.3786 - val_loss: 0.3404\n",
            "WARNING:tensorflow:From /usr/local/lib/python3.6/dist-packages/keras/callbacks.py:1265: The name tf.Summary is deprecated. Please use tf.compat.v1.Summary instead.\n",
            "\n",
            "Epoch 2/10\n",
            "60000/60000 [==============================] - 6s 94us/step - loss: 0.3293 - val_loss: 0.3207\n",
            "Epoch 3/10\n",
            "60000/60000 [==============================] - 6s 96us/step - loss: 0.3188 - val_loss: 0.3168\n",
            "Epoch 4/10\n",
            "60000/60000 [==============================] - 6s 93us/step - loss: 0.3134 - val_loss: 0.3127\n",
            "Epoch 5/10\n",
            "60000/60000 [==============================] - 6s 93us/step - loss: 0.3098 - val_loss: 0.3091\n",
            "Epoch 6/10\n",
            "60000/60000 [==============================] - 6s 93us/step - loss: 0.3074 - val_loss: 0.3051\n",
            "Epoch 7/10\n",
            "60000/60000 [==============================] - 6s 93us/step - loss: 0.3053 - val_loss: 0.3051\n",
            "Epoch 8/10\n",
            "60000/60000 [==============================] - 6s 93us/step - loss: 0.3038 - val_loss: 0.3043\n",
            "Epoch 9/10\n",
            "60000/60000 [==============================] - 6s 93us/step - loss: 0.3026 - val_loss: 0.3034\n",
            "Epoch 10/10\n",
            "60000/60000 [==============================] - 6s 93us/step - loss: 0.3005 - val_loss: 0.3019\n"
          ],
          "name": "stdout"
        },
        {
          "output_type": "execute_result",
          "data": {
            "text/plain": [
              "<keras.callbacks.History at 0x7fc6253d38d0>"
            ]
          },
          "metadata": {
            "tags": []
          },
          "execution_count": 3
        }
      ]
    },
    {
      "cell_type": "code",
      "metadata": {
        "id": "WzDVHl4jcM-M",
        "colab_type": "code",
        "outputId": "4fb014d1-ef7a-47af-c22f-56fb997660e6",
        "colab": {
          "base_uri": "https://localhost:8080/",
          "height": 248
        }
      },
      "source": [
        "decoded_imgs = autoencoder.predict(x_test)\n",
        "\n",
        "n = 10  # how many digits we will display\n",
        "plt.figure(figsize=(20, 4))\n",
        "for i in range(n):\n",
        "    # display original\n",
        "    ax = plt.subplot(2, n, i + 1)\n",
        "    plt.imshow(x_test[i].reshape(28, 28))\n",
        "    plt.gray()\n",
        "    ax.get_xaxis().set_visible(False)\n",
        "    ax.get_yaxis().set_visible(False)\n",
        "\n",
        "    # display reconstruction\n",
        "    ax = plt.subplot(2, n, i + 1 + n)\n",
        "    plt.imshow(decoded_imgs[i].reshape(28, 28))\n",
        "    plt.gray()\n",
        "    ax.get_xaxis().set_visible(False)\n",
        "    ax.get_yaxis().set_visible(False)\n",
        "plt.show()\n"
      ],
      "execution_count": 5,
      "outputs": [
        {
          "output_type": "display_data",
          "data": {
            "image/png": "[encoded data removed]",
            "text/plain": [
              "<Figure size 1440x288 with 20 Axes>"
            ]
          },
          "metadata": {
            "tags": []
          }
        }
      ]
    },
    {
      "cell_type": "code",
      "metadata": {
        "id": "Cn4LFIElhfcn",
        "colab_type": "code",
        "colab": {}
      },
      "source": [
        ""
      ],
      "execution_count": 0,
      "outputs": []
    },
    {
      "cell_type": "markdown",
      "metadata": {
        "id": "7BjfpIPvx4ol",
        "colab_type": "text"
      },
      "source": [
        "# Question 2"
      ]
    },
    {
      "cell_type": "markdown",
      "metadata": {
        "id": "-lcQphERx7I6",
        "colab_type": "text"
      },
      "source": [
        "2.1 Build a deep CNN to classify the images. Provide a brief description of the\n",
        "architectural choices you’ve made: kernel sizes, strides, padding, network depth. Train your network end-to-end. Report on your model’s performance on training set and test set."
      ]
    },
    {
      "cell_type": "code",
      "metadata": {
        "id": "mbL_QtfPyGyb",
        "colab_type": "code",
        "colab": {}
      },
      "source": [
        "import tensorflow as tf\n",
        "import keras\n",
        "import numpy as np\n",
        "%matplotlib inline\n",
        "from matplotlib import pyplot as plt\n",
        "\n",
        "# import keras tools\n",
        "from keras.models import Sequential\n",
        "from keras.layers import Dense, Dropout, Activation, Flatten\n",
        "from keras.layers import Conv2D, MaxPooling2D\n",
        "from keras.utils import np_utils\n",
        "\n",
        "# import dataset\n",
        "from keras.datasets import fashion_mnist"
      ],
      "execution_count": 0,
      "outputs": []
    },
    {
      "cell_type": "code",
      "metadata": {
        "id": "sN1f0pfzhfZJ",
        "colab_type": "code",
        "colab": {}
      },
      "source": [
        "# Load pre-shuffled MNIST data into train and test sets\n",
        "(X_train, y_train), (X_test, y_test) = fashion_mnist.load_data()\n",
        "\n",
        "# Declaring a depth of 1 for MNIST\n",
        "X_train = X_train.reshape(X_train.shape[0], 28, 28, 1)\n",
        "X_test = X_test.reshape(X_test.shape[0], 28, 28,1)\n",
        "\n",
        "# Setting up calues as float32s that are bounded between 0 and 1\n",
        "X_train = X_train.astype('float32')\n",
        "X_test = X_test.astype('float32')\n",
        "X_train /= 255\n",
        "X_test /= 255\n",
        "\n",
        "# Convert 1-dimensional class arrays to 10-dimensional class matrices\n",
        "Y_train = np_utils.to_categorical(y_train, 10)\n",
        "Y_test = np_utils.to_categorical(y_test, 10)"
      ],
      "execution_count": 0,
      "outputs": []
    },
    {
      "cell_type": "code",
      "metadata": {
        "id": "1DipcDIahfVq",
        "colab_type": "code",
        "outputId": "536cce20-205a-4ab8-cb41-e09117f4f7cc",
        "colab": {
          "base_uri": "https://localhost:8080/",
          "height": 127
        }
      },
      "source": [
        "# Setting up the Architecture\n",
        "\n",
        "model = Sequential()\n",
        "\n",
        "model.add(Conv2D(filters = 32, kernel_size=(3, 3),activation='relu', strides=(1, 1), padding='valid', input_shape=(28,28,1)))\n",
        "model.add(Conv2D(filters = 32, kernel_size=(3, 3),activation='relu', strides=(1, 1), padding='valid', input_shape=(28,28,1)))\n",
        "model.add(MaxPooling2D(pool_size=(2,2)))\n",
        "model.add(Dropout(0.25))\n",
        "\n",
        "\n",
        "model.add(Flatten())\n",
        "model.add(Dense(64, activation='relu'))\n",
        "model.add(Dropout(0.5))\n",
        "model.add(Dense(10, activation='softmax'))"
      ],
      "execution_count": 8,
      "outputs": [
        {
          "output_type": "stream",
          "text": [
            "WARNING:tensorflow:From /usr/local/lib/python3.6/dist-packages/keras/backend/tensorflow_backend.py:148: The name tf.placeholder_with_default is deprecated. Please use tf.compat.v1.placeholder_with_default instead.\n",
            "\n",
            "WARNING:tensorflow:From /usr/local/lib/python3.6/dist-packages/keras/backend/tensorflow_backend.py:3733: calling dropout (from tensorflow.python.ops.nn_ops) with keep_prob is deprecated and will be removed in a future version.\n",
            "Instructions for updating:\n",
            "Please use `rate` instead of `keep_prob`. Rate should be set to `rate = 1 - keep_prob`.\n"
          ],
          "name": "stdout"
        }
      ]
    },
    {
      "cell_type": "code",
      "metadata": {
        "id": "4KVnArp1CyOk",
        "colab_type": "code",
        "colab": {}
      },
      "source": [
        "model.compile(loss='categorical_crossentropy',optimizer='adam',metrics=['accuracy'])"
      ],
      "execution_count": 0,
      "outputs": []
    },
    {
      "cell_type": "code",
      "metadata": {
        "id": "2cRtD7LbC1cu",
        "colab_type": "code",
        "outputId": "f63ddb53-ade2-45f7-cac5-d36af896acb0",
        "colab": {
          "base_uri": "https://localhost:8080/",
          "height": 395
        }
      },
      "source": [
        "model_training = model.fit(X_train, Y_train, validation_data=(X_test, Y_test),epochs=10, batch_size=128, verbose = 1)"
      ],
      "execution_count": 10,
      "outputs": [
        {
          "output_type": "stream",
          "text": [
            "Train on 60000 samples, validate on 10000 samples\n",
            "Epoch 1/10\n",
            "60000/60000 [==============================] - 6s 105us/step - loss: 0.6768 - acc: 0.7650 - val_loss: 0.3828 - val_acc: 0.8615\n",
            "Epoch 2/10\n",
            "60000/60000 [==============================] - 6s 94us/step - loss: 0.4435 - acc: 0.8443 - val_loss: 0.3259 - val_acc: 0.8817\n",
            "Epoch 3/10\n",
            "60000/60000 [==============================] - 6s 94us/step - loss: 0.3906 - acc: 0.8602 - val_loss: 0.3050 - val_acc: 0.8895\n",
            "Epoch 4/10\n",
            "60000/60000 [==============================] - 6s 94us/step - loss: 0.3596 - acc: 0.8705 - val_loss: 0.2899 - val_acc: 0.8969\n",
            "Epoch 5/10\n",
            "60000/60000 [==============================] - 6s 94us/step - loss: 0.3384 - acc: 0.8791 - val_loss: 0.2784 - val_acc: 0.9015\n",
            "Epoch 6/10\n",
            "60000/60000 [==============================] - 6s 95us/step - loss: 0.3150 - acc: 0.8857 - val_loss: 0.2658 - val_acc: 0.9072\n",
            "Epoch 7/10\n",
            "60000/60000 [==============================] - 6s 94us/step - loss: 0.3002 - acc: 0.8920 - val_loss: 0.2553 - val_acc: 0.9064\n",
            "Epoch 8/10\n",
            "60000/60000 [==============================] - 6s 94us/step - loss: 0.2882 - acc: 0.8946 - val_loss: 0.2517 - val_acc: 0.9080\n",
            "Epoch 9/10\n",
            "60000/60000 [==============================] - 6s 94us/step - loss: 0.2764 - acc: 0.9001 - val_loss: 0.2475 - val_acc: 0.9111\n",
            "Epoch 10/10\n",
            "60000/60000 [==============================] - 6s 94us/step - loss: 0.2608 - acc: 0.9058 - val_loss: 0.2355 - val_acc: 0.9162\n"
          ],
          "name": "stdout"
        }
      ]
    },
    {
      "cell_type": "code",
      "metadata": {
        "id": "i8_q3MlfDmoC",
        "colab_type": "code",
        "outputId": "0dc02dc3-d2f5-4e26-c3d2-bc37b0012c83",
        "colab": {
          "base_uri": "https://localhost:8080/",
          "height": 317
        }
      },
      "source": [
        "plt.plot(range(1,11),model_training.history[\"acc\"],label='training')\n",
        "plt.plot(range(1,11),model_training.history['val_acc'],label='test')\n",
        "plt.title('Training and validation accuracy')\n",
        "plt.legend(loc = 'upper left')\n",
        "plt.figure()"
      ],
      "execution_count": 11,
      "outputs": [
        {
          "output_type": "execute_result",
          "data": {
            "text/plain": [
              "<Figure size 432x288 with 0 Axes>"
            ]
          },
          "metadata": {
            "tags": []
          },
          "execution_count": 11
        },
        {
          "output_type": "display_data",
          "data": {
            "image/png": "[encoded data removed]",
            "text/plain": [
              "<Figure size 432x288 with 1 Axes>"
            ]
          },
          "metadata": {
            "tags": []
          }
        },
        {
          "output_type": "display_data",
          "data": {
            "text/plain": [
              "<Figure size 432x288 with 0 Axes>"
            ]
          },
          "metadata": {
            "tags": []
          }
        }
      ]
    },
    {
      "cell_type": "code",
      "metadata": {
        "id": "VKFeMJuzD7ja",
        "colab_type": "code",
        "outputId": "e99d48a6-127b-4c1a-8e84-42901a498e7b",
        "colab": {
          "base_uri": "https://localhost:8080/",
          "height": 317
        }
      },
      "source": [
        "plt.plot(range(1,11),model_training.history[\"loss\"],label='training')\n",
        "plt.plot(range(1,11),model_training.history['val_loss'],label='test')\n",
        "plt.title('Training and validation accuracy')\n",
        "plt.legend(loc = 'upper left')\n",
        "plt.figure()"
      ],
      "execution_count": 12,
      "outputs": [
        {
          "output_type": "execute_result",
          "data": {
            "text/plain": [
              "<Figure size 432x288 with 0 Axes>"
            ]
          },
          "metadata": {
            "tags": []
          },
          "execution_count": 12
        },
        {
          "output_type": "display_data",
          "data": {
            "image/png": "[encoded data removed]",
            "text/plain": [
              "<Figure size 432x288 with 1 Axes>"
            ]
          },
          "metadata": {
            "tags": []
          }
        },
        {
          "output_type": "display_data",
          "data": {
            "text/plain": [
              "<Figure size 432x288 with 0 Axes>"
            ]
          },
          "metadata": {
            "tags": []
          }
        }
      ]
    },
    {
      "cell_type": "code",
      "metadata": {
        "id": "3VBxcfgfRJiJ",
        "colab_type": "code",
        "outputId": "b17b139b-b78a-40d5-a34d-79e26f567643",
        "colab": {
          "base_uri": "https://localhost:8080/",
          "height": 53
        }
      },
      "source": [
        "score_train = model.evaluate(X_train, Y_train, verbose=1)\n",
        "score_test = model.evaluate(X_test, Y_test, verbose=1)"
      ],
      "execution_count": 0,
      "outputs": [
        {
          "output_type": "stream",
          "text": [
            "60000/60000 [==============================] - 4s 62us/step\n",
            "10000/10000 [==============================] - 1s 62us/step\n"
          ],
          "name": "stdout"
        }
      ]
    },
    {
      "cell_type": "code",
      "metadata": {
        "id": "-6-A7OYTRJfg",
        "colab_type": "code",
        "outputId": "a6de16a0-fab7-4551-a094-f86a7e4db3e9",
        "colab": {
          "base_uri": "https://localhost:8080/",
          "height": 53
        }
      },
      "source": [
        "print(score_train)\n",
        "print(score_test)"
      ],
      "execution_count": 0,
      "outputs": [
        {
          "output_type": "stream",
          "text": [
            "[0.1664994724775354, 0.9397333333333333]\n",
            "[0.2416531729221344, 0.911]\n"
          ],
          "name": "stdout"
        }
      ]
    },
    {
      "cell_type": "markdown",
      "metadata": {
        "id": "V6JDiEcsCrRv",
        "colab_type": "text"
      },
      "source": [
        "#Summary\n",
        "kernel size = (3,3)  \n",
        "strides = (1,1)  \n",
        "padding = 'valid'  \n",
        "  \n",
        "training accuracy: 0.9397  \n",
        "training loss: 0.166  \n",
        "test accuracy: 0.911 \n",
        "test loss: 0.241\n"
      ]
    },
    {
      "cell_type": "markdown",
      "metadata": {
        "id": "hQQelelqbqHm",
        "colab_type": "text"
      },
      "source": [
        "2.2  Transfer Learning Repeat the same task, but this time utilize a pre-trained network for the majority of your model. You should only train the final Dense layer, all other weights should be fixed. You can use whichever pre-trained backbone you like (ResNet, VGG, etc). Report on your model’s performance on training set and test set.\n"
      ]
    },
    {
      "cell_type": "code",
      "metadata": {
        "id": "YmJHo0C13I7v",
        "colab_type": "code",
        "colab": {}
      },
      "source": [
        "import numpy as np\n",
        "from keras.datasets import fashion_mnist\n",
        "from sklearn.model_selection import train_test_split\n",
        "import keras\n",
        "from keras.utils import to_categorical\n",
        "from keras.models import Sequential\n",
        "from keras.layers import Conv2D, MaxPooling2D\n",
        "from keras.layers import Dense, Dropout, Flatten\n",
        "from keras.preprocessing.image import ImageDataGenerator\n",
        "\n",
        "from keras.applications import VGG16;\n",
        "from keras.applications.vgg16 import preprocess_input\n",
        "from keras import backend as K"
      ],
      "execution_count": 0,
      "outputs": []
    },
    {
      "cell_type": "code",
      "metadata": {
        "id": "wHXHgJdFEU9Z",
        "colab_type": "code",
        "colab": {}
      },
      "source": [
        "(X_train, Y_train), (X_test, Y_test) = fashion_mnist.load_data()\n",
        "\n",
        "X_train = np.stack([X_train] * 3, axis = -1 )\n",
        "X_test = np.stack([X_test] * 3, axis = -1 )\n",
        "\n",
        "# Resize the images 48*48 as required by VGG16\n",
        "from keras.preprocessing.image import img_to_array, array_to_img\n",
        "X_train = np.asarray([img_to_array(array_to_img(im, scale=False).resize((32,32))) for im in X_train])\n",
        "X_test = np.asarray([img_to_array(array_to_img(im, scale=False).resize((32,32))) for im in X_test])\n"
      ],
      "execution_count": 0,
      "outputs": []
    },
    {
      "cell_type": "code",
      "metadata": {
        "id": "RDoS-Mqc3GDa",
        "colab_type": "code",
        "colab": {}
      },
      "source": [
        "# Normalise the data and change data type\n",
        "X_train = X_train / 255.\n",
        "X_test = X_test / 255.\n",
        "X_train = X_train.astype('float32')\n",
        "X_test = X_test.astype('float32')"
      ],
      "execution_count": 0,
      "outputs": []
    },
    {
      "cell_type": "code",
      "metadata": {
        "id": "PreOHMrlNtQx",
        "colab_type": "code",
        "outputId": "56c5a656-41dc-4ab2-d94b-23dcd74f5b0a",
        "colab": {
          "base_uri": "https://localhost:8080/",
          "height": 35
        }
      },
      "source": [
        "X_train.shape,X_test.shape"
      ],
      "execution_count": 19,
      "outputs": [
        {
          "output_type": "execute_result",
          "data": {
            "text/plain": [
              "((60000, 32, 32, 3), (10000, 32, 32, 3))"
            ]
          },
          "metadata": {
            "tags": []
          },
          "execution_count": 19
        }
      ]
    },
    {
      "cell_type": "code",
      "metadata": {
        "id": "u4QcUucaJzPa",
        "colab_type": "code",
        "colab": {}
      },
      "source": [
        "from keras.utils import np_utils\n",
        "\n",
        "Y_train = np_utils.to_categorical(Y_train, 10)\n",
        "Y_test = np_utils.to_categorical(Y_test, 10)"
      ],
      "execution_count": 0,
      "outputs": []
    },
    {
      "cell_type": "code",
      "metadata": {
        "id": "WOtr_v33USvK",
        "colab_type": "code",
        "outputId": "260842eb-7cf2-47fa-f65e-929408c17c76",
        "colab": {
          "base_uri": "https://localhost:8080/",
          "height": 53
        }
      },
      "source": [
        "# Create the base model of VGG16\n",
        "vgg16 = VGG16(weights='imagenet', include_top=False, input_shape = (32, 32, 3))\n",
        "\n",
        "model1 = Sequential()\n",
        "model1.add(vgg16)\n",
        "model1.add(Dropout(0.25))\n",
        "model1.add(Flatten())\n",
        "model1.add(Dense(96, activation=\"relu\"))\n",
        "model1.add(Dropout(0.5))\n",
        "model1.add(Dense(10, activation=\"softmax\"))"
      ],
      "execution_count": 21,
      "outputs": [
        {
          "output_type": "stream",
          "text": [
            "Downloading data from https://github.com/fchollet/deep-learning-models/releases/download/v0.1/vgg16_weights_tf_dim_ordering_tf_kernels_notop.h5\n",
            "58892288/58889256 [==============================] - 1s 0us/step\n"
          ],
          "name": "stdout"
        }
      ]
    },
    {
      "cell_type": "code",
      "metadata": {
        "id": "mIqa569EKRll",
        "colab_type": "code",
        "colab": {}
      },
      "source": [
        "model1.compile(loss='categorical_crossentropy', optimizer='adam', metrics=['accuracy'])"
      ],
      "execution_count": 0,
      "outputs": []
    },
    {
      "cell_type": "code",
      "metadata": {
        "id": "CZcfTgk6KZSV",
        "colab_type": "code",
        "outputId": "75dc98ae-f23a-420c-9752-7d649a959ed4",
        "colab": {
          "base_uri": "https://localhost:8080/",
          "height": 395
        }
      },
      "source": [
        "model1_training = model1.fit(X_train, Y_train, epochs=10, validation_data=(X_test, Y_test), batch_size=64, verbose = 1)"
      ],
      "execution_count": 23,
      "outputs": [
        {
          "output_type": "stream",
          "text": [
            "Train on 60000 samples, validate on 10000 samples\n",
            "Epoch 1/10\n",
            "60000/60000 [==============================] - 96s 2ms/step - loss: 1.0856 - acc: 0.5809 - val_loss: 0.5415 - val_acc: 0.7651\n",
            "Epoch 2/10\n",
            "60000/60000 [==============================] - 93s 2ms/step - loss: 0.4884 - acc: 0.8365 - val_loss: 0.4034 - val_acc: 0.8733\n",
            "Epoch 3/10\n",
            "60000/60000 [==============================] - 93s 2ms/step - loss: 0.3821 - acc: 0.8766 - val_loss: 0.3368 - val_acc: 0.8827\n",
            "Epoch 4/10\n",
            "60000/60000 [==============================] - 92s 2ms/step - loss: 0.3389 - acc: 0.8900 - val_loss: 0.3219 - val_acc: 0.8897\n",
            "Epoch 5/10\n",
            "60000/60000 [==============================] - 92s 2ms/step - loss: 0.2875 - acc: 0.9064 - val_loss: 0.2782 - val_acc: 0.9000\n",
            "Epoch 6/10\n",
            "60000/60000 [==============================] - 92s 2ms/step - loss: 0.2655 - acc: 0.9110 - val_loss: 0.2598 - val_acc: 0.9079\n",
            "Epoch 7/10\n",
            "60000/60000 [==============================] - 92s 2ms/step - loss: 0.2460 - acc: 0.9188 - val_loss: 0.2796 - val_acc: 0.9107\n",
            "Epoch 8/10\n",
            "60000/60000 [==============================] - 92s 2ms/step - loss: 0.2620 - acc: 0.9158 - val_loss: 0.2690 - val_acc: 0.9127\n",
            "Epoch 9/10\n",
            "60000/60000 [==============================] - 92s 2ms/step - loss: 0.2287 - acc: 0.9246 - val_loss: 0.2735 - val_acc: 0.9092\n",
            "Epoch 10/10\n",
            "60000/60000 [==============================] - 92s 2ms/step - loss: 0.2182 - acc: 0.9279 - val_loss: 0.2715 - val_acc: 0.9142\n"
          ],
          "name": "stdout"
        }
      ]
    },
    {
      "cell_type": "code",
      "metadata": {
        "id": "lP1iv8ktgZil",
        "colab_type": "code",
        "outputId": "4cf77e48-b502-4fb9-fb52-c99108d3b221",
        "colab": {
          "base_uri": "https://localhost:8080/",
          "height": 317
        }
      },
      "source": [
        "plt.plot(range(1,11),model1_training.history[\"acc\"],label='training')\n",
        "plt.plot(range(1,11),model1_training.history['val_acc'],label='test')\n",
        "plt.title('Training and validation accuracy')\n",
        "plt.legend(loc = 'lower right')\n",
        "plt.figure()"
      ],
      "execution_count": 24,
      "outputs": [
        {
          "output_type": "execute_result",
          "data": {
            "text/plain": [
              "<Figure size 432x288 with 0 Axes>"
            ]
          },
          "metadata": {
            "tags": []
          },
          "execution_count": 24
        },
        {
          "output_type": "display_data",
          "data": {
            "image/png": "[encoded data removed]",
            "text/plain": [
              "<Figure size 432x288 with 1 Axes>"
            ]
          },
          "metadata": {
            "tags": []
          }
        },
        {
          "output_type": "display_data",
          "data": {
            "text/plain": [
              "<Figure size 432x288 with 0 Axes>"
            ]
          },
          "metadata": {
            "tags": []
          }
        }
      ]
    },
    {
      "cell_type": "code",
      "metadata": {
        "id": "wBFN1SWWkuUd",
        "colab_type": "code",
        "outputId": "12d3d666-6680-4178-ec2c-c7c542a59fa6",
        "colab": {
          "base_uri": "https://localhost:8080/",
          "height": 317
        }
      },
      "source": [
        "plt.plot(range(1,11),model1_training.history[\"loss\"],label='training')\n",
        "plt.plot(range(1,11),model1_training.history['val_loss'],label='test')\n",
        "plt.title('Training and validation loss')\n",
        "plt.legend(loc = 'upper right')\n",
        "plt.figure()"
      ],
      "execution_count": 25,
      "outputs": [
        {
          "output_type": "execute_result",
          "data": {
            "text/plain": [
              "<Figure size 432x288 with 0 Axes>"
            ]
          },
          "metadata": {
            "tags": []
          },
          "execution_count": 25
        },
        {
          "output_type": "display_data",
          "data": {
            "image/png": "[encoded data removed]",
            "text/plain": [
              "<Figure size 432x288 with 1 Axes>"
            ]
          },
          "metadata": {
            "tags": []
          }
        },
        {
          "output_type": "display_data",
          "data": {
            "text/plain": [
              "<Figure size 432x288 with 0 Axes>"
            ]
          },
          "metadata": {
            "tags": []
          }
        }
      ]
    },
    {
      "cell_type": "code",
      "metadata": {
        "id": "f8RUNpw5DWfh",
        "colab_type": "code",
        "colab": {
          "base_uri": "https://localhost:8080/",
          "height": 53
        },
        "outputId": "f9ed1b88-5a20-4bb5-f731-1f735daf9298"
      },
      "source": [
        "score_train1 = model1.evaluate(X_train, Y_train, verbose=1)\n",
        "score_test1 = model1.evaluate(X_test, Y_test, verbose=1)"
      ],
      "execution_count": 29,
      "outputs": [
        {
          "output_type": "stream",
          "text": [
            "60000/60000 [==============================] - 31s 510us/step\n",
            "10000/10000 [==============================] - 5s 508us/step\n"
          ],
          "name": "stdout"
        }
      ]
    },
    {
      "cell_type": "code",
      "metadata": {
        "id": "gvbF_q7jDXxQ",
        "colab_type": "code",
        "colab": {
          "base_uri": "https://localhost:8080/",
          "height": 53
        },
        "outputId": "b2179ed6-cf45-421a-9eea-2479ed5cbd6c"
      },
      "source": [
        "print(score_train1)\n",
        "print(score_test1)"
      ],
      "execution_count": 30,
      "outputs": [
        {
          "output_type": "stream",
          "text": [
            "[0.17821863551835218, 0.9390833333333334]\n",
            "[0.2714677258312702, 0.9142]\n"
          ],
          "name": "stdout"
        }
      ]
    },
    {
      "cell_type": "markdown",
      "metadata": {
        "id": "bDCwGuh-DOj2",
        "colab_type": "text"
      },
      "source": [
        "# Summary\n",
        "training accuracy: 0.939\n",
        "training loss: 0.178\n",
        "test accuracy: 0.9142\n",
        "test loss: 0.2714"
      ]
    },
    {
      "cell_type": "markdown",
      "metadata": {
        "id": "SewV6gOplNLZ",
        "colab_type": "text"
      },
      "source": [
        "# 3. Text Classification"
      ]
    },
    {
      "cell_type": "markdown",
      "metadata": {
        "id": "PY8fwyremEAU",
        "colab_type": "text"
      },
      "source": [
        "3.1 RNN"
      ]
    },
    {
      "cell_type": "code",
      "metadata": {
        "id": "PJzuRl21KGVw",
        "colab_type": "code",
        "outputId": "0d93a4e0-072b-4a8e-f585-cb4bd7205e53",
        "colab": {
          "resources": {
            "http://localhost:8080/nbextensions/google.colab/files.js": {
              "data": "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",
              "ok": true,
              "headers": [
                [
                  "content-type",
                  "application/javascript"
                ]
              ],
              "status": 200,
              "status_text": ""
            }
          },
          "base_uri": "https://localhost:8080/",
          "height": 77
        }
      },
      "source": [
        "from google.colab import files\n",
        "uploaded = files.upload()"
      ],
      "execution_count": 31,
      "outputs": [
        {
          "output_type": "display_data",
          "data": {
            "text/html": [
              "\n",
              "     <input type=\"file\" id=\"files-30160bbc-5f46-495d-9d0d-992f6517b58b\" name=\"files[]\" multiple disabled />\n",
              "     <output id=\"result-30160bbc-5f46-495d-9d0d-992f6517b58b\">\n",
              "      Upload widget is only available when the cell has been executed in the\n",
              "      current browser session. Please rerun this cell to enable.\n",
              "      </output>\n",
              "      <script src=\"/nbextensions/google.colab/files.js\"></script> "
            ],
            "text/plain": [
              "<IPython.core.display.HTML object>"
            ]
          },
          "metadata": {
            "tags": []
          }
        },
        {
          "output_type": "stream",
          "text": [
            "Saving tweets_with_labels.csv to tweets_with_labels.csv\n"
          ],
          "name": "stdout"
        }
      ]
    },
    {
      "cell_type": "code",
      "metadata": {
        "id": "smZangRPXoNx",
        "colab_type": "code",
        "colab": {}
      },
      "source": [
        "import pandas as pd\n",
        "import io\n",
        "\n",
        "tweet = io.BytesIO(uploaded['tweets_with_labels.csv']) \n",
        "df = pd.read_csv(tweet,delimiter='\\t')"
      ],
      "execution_count": 0,
      "outputs": []
    },
    {
      "cell_type": "code",
      "metadata": {
        "id": "2boivkTfXoFO",
        "colab_type": "code",
        "outputId": "a747bc29-f949-4c08-c19e-52bdb3782490",
        "colab": {
          "base_uri": "https://localhost:8080/",
          "height": 204
        }
      },
      "source": [
        "df.head()"
      ],
      "execution_count": 0,
      "outputs": [
        {
          "output_type": "execute_result",
          "data": {
            "text/html": [
              "<div>\n",
              "<style scoped>\n",
              "    .dataframe tbody tr th:only-of-type {\n",
              "        vertical-align: middle;\n",
              "    }\n",
              "\n",
              "    .dataframe tbody tr th {\n",
              "        vertical-align: top;\n",
              "    }\n",
              "\n",
              "    .dataframe thead th {\n",
              "        text-align: right;\n",
              "    }\n",
              "</style>\n",
              "<table border=\"1\" class=\"dataframe\">\n",
              "  <thead>\n",
              "    <tr style=\"text-align: right;\">\n",
              "      <th></th>\n",
              "      <th>id</th>\n",
              "      <th>tweet</th>\n",
              "      <th>k1</th>\n",
              "      <th>k2</th>\n",
              "      <th>k3</th>\n",
              "      <th>k4</th>\n",
              "      <th>k5</th>\n",
              "      <th>k6</th>\n",
              "      <th>k7</th>\n",
              "      <th>k8</th>\n",
              "      <th>k9</th>\n",
              "      <th>k10</th>\n",
              "      <th>k11</th>\n",
              "      <th>k12</th>\n",
              "      <th>k13</th>\n",
              "      <th>k14</th>\n",
              "      <th>k15</th>\n",
              "    </tr>\n",
              "  </thead>\n",
              "  <tbody>\n",
              "    <tr>\n",
              "      <th>0</th>\n",
              "      <td>1</td>\n",
              "      <td>Jazz for a Rainy Afternoon:  {link}</td>\n",
              "      <td>0.0</td>\n",
              "      <td>0.0</td>\n",
              "      <td>0.0</td>\n",
              "      <td>0.0</td>\n",
              "      <td>0.0</td>\n",
              "      <td>0.0</td>\n",
              "      <td>0.000</td>\n",
              "      <td>0.0</td>\n",
              "      <td>0.000</td>\n",
              "      <td>1.0</td>\n",
              "      <td>0.0</td>\n",
              "      <td>0.0</td>\n",
              "      <td>0.000</td>\n",
              "      <td>0.0</td>\n",
              "      <td>0.0</td>\n",
              "    </tr>\n",
              "    <tr>\n",
              "      <th>1</th>\n",
              "      <td>2</td>\n",
              "      <td>RT: @mention: I love rainy days.</td>\n",
              "      <td>0.0</td>\n",
              "      <td>0.0</td>\n",
              "      <td>0.0</td>\n",
              "      <td>0.0</td>\n",
              "      <td>0.0</td>\n",
              "      <td>0.0</td>\n",
              "      <td>0.000</td>\n",
              "      <td>0.0</td>\n",
              "      <td>0.000</td>\n",
              "      <td>1.0</td>\n",
              "      <td>0.0</td>\n",
              "      <td>0.0</td>\n",
              "      <td>0.000</td>\n",
              "      <td>0.0</td>\n",
              "      <td>0.0</td>\n",
              "    </tr>\n",
              "    <tr>\n",
              "      <th>2</th>\n",
              "      <td>3</td>\n",
              "      <td>Good Morning Chicago! Time to kick the Windy C...</td>\n",
              "      <td>0.0</td>\n",
              "      <td>0.0</td>\n",
              "      <td>0.0</td>\n",
              "      <td>0.0</td>\n",
              "      <td>0.0</td>\n",
              "      <td>0.0</td>\n",
              "      <td>1.000</td>\n",
              "      <td>0.0</td>\n",
              "      <td>0.000</td>\n",
              "      <td>0.0</td>\n",
              "      <td>0.0</td>\n",
              "      <td>0.0</td>\n",
              "      <td>0.000</td>\n",
              "      <td>0.0</td>\n",
              "      <td>0.0</td>\n",
              "    </tr>\n",
              "    <tr>\n",
              "      <th>3</th>\n",
              "      <td>6</td>\n",
              "      <td>Preach lol! :) RT @mention: #alliwantis this t...</td>\n",
              "      <td>0.0</td>\n",
              "      <td>0.0</td>\n",
              "      <td>0.0</td>\n",
              "      <td>0.0</td>\n",
              "      <td>0.0</td>\n",
              "      <td>0.0</td>\n",
              "      <td>0.604</td>\n",
              "      <td>0.0</td>\n",
              "      <td>0.196</td>\n",
              "      <td>0.0</td>\n",
              "      <td>0.0</td>\n",
              "      <td>0.0</td>\n",
              "      <td>0.201</td>\n",
              "      <td>0.0</td>\n",
              "      <td>0.0</td>\n",
              "    </tr>\n",
              "    <tr>\n",
              "      <th>4</th>\n",
              "      <td>9</td>\n",
              "      <td>@mention good morning sunshine</td>\n",
              "      <td>0.0</td>\n",
              "      <td>0.0</td>\n",
              "      <td>0.0</td>\n",
              "      <td>0.0</td>\n",
              "      <td>0.0</td>\n",
              "      <td>0.0</td>\n",
              "      <td>0.000</td>\n",
              "      <td>0.0</td>\n",
              "      <td>0.000</td>\n",
              "      <td>0.0</td>\n",
              "      <td>0.0</td>\n",
              "      <td>0.0</td>\n",
              "      <td>1.000</td>\n",
              "      <td>0.0</td>\n",
              "      <td>0.0</td>\n",
              "    </tr>\n",
              "  </tbody>\n",
              "</table>\n",
              "</div>"
            ],
            "text/plain": [
              "   id                                              tweet   k1  ...    k13  k14  k15\n",
              "0   1                Jazz for a Rainy Afternoon:  {link}  0.0  ...  0.000  0.0  0.0\n",
              "1   2                   RT: @mention: I love rainy days.  0.0  ...  0.000  0.0  0.0\n",
              "2   3  Good Morning Chicago! Time to kick the Windy C...  0.0  ...  0.000  0.0  0.0\n",
              "3   6  Preach lol! :) RT @mention: #alliwantis this t...  0.0  ...  0.201  0.0  0.0\n",
              "4   9                     @mention good morning sunshine  0.0  ...  1.000  0.0  0.0\n",
              "\n",
              "[5 rows x 17 columns]"
            ]
          },
          "metadata": {
            "tags": []
          },
          "execution_count": 5
        }
      ]
    },
    {
      "cell_type": "code",
      "metadata": {
        "id": "SoaURHFEXn67",
        "colab_type": "code",
        "colab": {}
      },
      "source": [
        "from gensim.corpora import Dictionary"
      ],
      "execution_count": 0,
      "outputs": []
    },
    {
      "cell_type": "code",
      "metadata": {
        "id": "DGGaWvqWnob8",
        "colab_type": "code",
        "colab": {}
      },
      "source": [
        "tweet = list(df['tweet'].map(lambda x:list(x)))\n",
        "dct = Dictionary(tweet)\n",
        "X = list(df['tweet'].map(lambda x: dct.doc2idx(list(x))))\n",
        "y = df.loc[:,'k1':'k15']"
      ],
      "execution_count": 0,
      "outputs": []
    },
    {
      "cell_type": "code",
      "metadata": {
        "id": "iL7SgKVCnoXp",
        "colab_type": "code",
        "outputId": "ef3a7db7-965d-4b48-9c21-ed3eba56a55d",
        "colab": {
          "base_uri": "https://localhost:8080/",
          "height": 82
        }
      },
      "source": [
        "from sklearn.model_selection import train_test_split\n",
        "from keras.models import Sequential\n",
        "from keras.layers import Dense, SimpleRNN, LSTM, Embedding\n",
        "from keras.preprocessing.text import Tokenizer, one_hot\n",
        "from keras.optimizers import RMSprop\n",
        "from keras.preprocessing import sequence"
      ],
      "execution_count": 0,
      "outputs": [
        {
          "output_type": "stream",
          "text": [
            "Using TensorFlow backend.\n"
          ],
          "name": "stderr"
        },
        {
          "output_type": "display_data",
          "data": {
            "text/html": [
              "<p style=\"color: red;\">\n",
              "The default version of TensorFlow in Colab will soon switch to TensorFlow 2.x.<br>\n",
              "We recommend you <a href=\"https://www.tensorflow.org/guide/migrate\" target=\"_blank\">upgrade</a> now \n",
              "or ensure your notebook will continue to use TensorFlow 1.x via the <code>%tensorflow_version 1.x</code> magic:\n",
              "<a href=\"https://colab.research.google.com/notebooks/tensorflow_version.ipynb\" target=\"_blank\">more info</a>.</p>\n"
            ],
            "text/plain": [
              "<IPython.core.display.HTML object>"
            ]
          },
          "metadata": {
            "tags": []
          }
        }
      ]
    },
    {
      "cell_type": "code",
      "metadata": {
        "id": "6WmtPWQynoVO",
        "colab_type": "code",
        "outputId": "a628be15-7b7f-4412-a0d4-8cc583b9350e",
        "colab": {
          "base_uri": "https://localhost:8080/",
          "height": 53
        }
      },
      "source": [
        "maxlen = 30\n",
        "max_features = 15\n",
        "\n",
        "\n",
        "X_train, X_test, y_train, y_test = train_test_split(X, y, test_size=0.3, random_state=1)\n",
        "X_train = sequence.pad_sequences(X_train, maxlen, padding=\"post\", truncating=\"post\")\n",
        "X_test = sequence.pad_sequences(X_test, maxlen, padding=\"post\", truncating=\"post\")\n",
        "X_train[0]"
      ],
      "execution_count": 0,
      "outputs": [
        {
          "output_type": "execute_result",
          "data": {
            "text/plain": [
              "array([31,  6,  5, 14, 35,  6, 13,  0, 68, 10, 12, 34,  0, 17, 10,  8, 11,\n",
              "        9, 18,  0,  0,  0,  0,  0,  0,  0,  0,  0,  0,  0], dtype=int32)"
            ]
          },
          "metadata": {
            "tags": []
          },
          "execution_count": 10
        }
      ]
    },
    {
      "cell_type": "code",
      "metadata": {
        "id": "RFs1sYsynoSt",
        "colab_type": "code",
        "outputId": "5c0bd5f5-c759-4822-e53f-5c156ae32263",
        "colab": {
          "base_uri": "https://localhost:8080/",
          "height": 109
        }
      },
      "source": [
        "rnn = Sequential()\n",
        "rnn.add(Embedding(max_features, 64))\n",
        "rnn.add(SimpleRNN(32))\n",
        "rnn.add(Dense(15, activation='softmax'))\n",
        "rnn.compile(optimizer=\"rmsprop\", loss=\"categorical_crossentropy\", metrics=[\"acc\"])"
      ],
      "execution_count": 0,
      "outputs": [
        {
          "output_type": "stream",
          "text": [
            "WARNING:tensorflow:From /usr/local/lib/python3.6/dist-packages/keras/optimizers.py:793: The name tf.train.Optimizer is deprecated. Please use tf.compat.v1.train.Optimizer instead.\n",
            "\n",
            "WARNING:tensorflow:From /usr/local/lib/python3.6/dist-packages/keras/backend/tensorflow_backend.py:3576: The name tf.log is deprecated. Please use tf.math.log instead.\n",
            "\n"
          ],
          "name": "stdout"
        }
      ]
    },
    {
      "cell_type": "code",
      "metadata": {
        "id": "T21dpA6ZnoPH",
        "colab_type": "code",
        "outputId": "937407e4-2898-49f6-a0a0-3521eb5bf77c",
        "colab": {
          "base_uri": "https://localhost:8080/",
          "height": 1000
        }
      },
      "source": [
        "rnn_training = rnn.fit(X_train, y_train, epochs=50, batch_size=256, \n",
        "            validation_data=(X_test, y_test))"
      ],
      "execution_count": 0,
      "outputs": [
        {
          "output_type": "stream",
          "text": [
            "WARNING:tensorflow:From /usr/local/lib/python3.6/dist-packages/tensorflow_core/python/ops/math_grad.py:1424: where (from tensorflow.python.ops.array_ops) is deprecated and will be removed in a future version.\n",
            "Instructions for updating:\n",
            "Use tf.where in 2.0, which has the same broadcast rule as np.where\n",
            "WARNING:tensorflow:From /usr/local/lib/python3.6/dist-packages/keras/backend/tensorflow_backend.py:1033: The name tf.assign_add is deprecated. Please use tf.compat.v1.assign_add instead.\n",
            "\n",
            "WARNING:tensorflow:From /usr/local/lib/python3.6/dist-packages/keras/backend/tensorflow_backend.py:1020: The name tf.assign is deprecated. Please use tf.compat.v1.assign instead.\n",
            "\n",
            "WARNING:tensorflow:From /usr/local/lib/python3.6/dist-packages/keras/backend/tensorflow_backend.py:3005: The name tf.Session is deprecated. Please use tf.compat.v1.Session instead.\n",
            "\n",
            "Train on 54562 samples, validate on 23384 samples\n",
            "Epoch 1/50\n",
            "WARNING:tensorflow:From /usr/local/lib/python3.6/dist-packages/keras/backend/tensorflow_backend.py:190: The name tf.get_default_session is deprecated. Please use tf.compat.v1.get_default_session instead.\n",
            "\n",
            "WARNING:tensorflow:From /usr/local/lib/python3.6/dist-packages/keras/backend/tensorflow_backend.py:197: The name tf.ConfigProto is deprecated. Please use tf.compat.v1.ConfigProto instead.\n",
            "\n",
            "WARNING:tensorflow:From /usr/local/lib/python3.6/dist-packages/keras/backend/tensorflow_backend.py:207: The name tf.global_variables is deprecated. Please use tf.compat.v1.global_variables instead.\n",
            "\n",
            "WARNING:tensorflow:From /usr/local/lib/python3.6/dist-packages/keras/backend/tensorflow_backend.py:216: The name tf.is_variable_initialized is deprecated. Please use tf.compat.v1.is_variable_initialized instead.\n",
            "\n",
            "WARNING:tensorflow:From /usr/local/lib/python3.6/dist-packages/keras/backend/tensorflow_backend.py:223: The name tf.variables_initializer is deprecated. Please use tf.compat.v1.variables_initializer instead.\n",
            "\n",
            "54562/54562 [==============================] - 6s 118us/step - loss: 2.6452 - acc: 0.2968 - val_loss: 2.5896 - val_acc: 0.2650\n",
            "Epoch 2/50\n",
            "54562/54562 [==============================] - 2s 40us/step - loss: 2.5324 - acc: 0.3329 - val_loss: 2.5711 - val_acc: 0.2813\n",
            "Epoch 3/50\n",
            "54562/54562 [==============================] - 2s 40us/step - loss: 2.4975 - acc: 0.3546 - val_loss: 2.5287 - val_acc: 0.3272\n",
            "Epoch 4/50\n",
            "54562/54562 [==============================] - 2s 39us/step - loss: 2.4786 - acc: 0.3653 - val_loss: 2.5202 - val_acc: 0.3425\n",
            "Epoch 5/50\n",
            "54562/54562 [==============================] - 2s 41us/step - loss: 2.4659 - acc: 0.3700 - val_loss: 2.5250 - val_acc: 0.3189\n",
            "Epoch 6/50\n",
            "54562/54562 [==============================] - 2s 41us/step - loss: 2.4566 - acc: 0.3736 - val_loss: 2.5126 - val_acc: 0.3468\n",
            "Epoch 7/50\n",
            "54562/54562 [==============================] - 2s 40us/step - loss: 2.4463 - acc: 0.3798 - val_loss: 2.5261 - val_acc: 0.3347\n",
            "Epoch 8/50\n",
            "54562/54562 [==============================] - 2s 39us/step - loss: 2.4387 - acc: 0.3841 - val_loss: 2.5597 - val_acc: 0.3096\n",
            "Epoch 9/50\n",
            "54562/54562 [==============================] - 2s 40us/step - loss: 2.4310 - acc: 0.3861 - val_loss: 2.4660 - val_acc: 0.3721\n",
            "Epoch 10/50\n",
            "54562/54562 [==============================] - 2s 40us/step - loss: 2.4220 - acc: 0.3912 - val_loss: 2.4931 - val_acc: 0.3594\n",
            "Epoch 11/50\n",
            "54562/54562 [==============================] - 2s 40us/step - loss: 2.4145 - acc: 0.3974 - val_loss: 2.4394 - val_acc: 0.3837\n",
            "Epoch 12/50\n",
            "54562/54562 [==============================] - 2s 40us/step - loss: 2.4068 - acc: 0.4010 - val_loss: 2.4396 - val_acc: 0.3856\n",
            "Epoch 13/50\n",
            "54562/54562 [==============================] - 2s 42us/step - loss: 2.3999 - acc: 0.4023 - val_loss: 2.4496 - val_acc: 0.3828\n",
            "Epoch 14/50\n",
            "54562/54562 [==============================] - 2s 40us/step - loss: 2.3904 - acc: 0.4059 - val_loss: 2.4193 - val_acc: 0.4063\n",
            "Epoch 15/50\n",
            "54562/54562 [==============================] - 2s 40us/step - loss: 2.3778 - acc: 0.4130 - val_loss: 2.3971 - val_acc: 0.4088\n",
            "Epoch 16/50\n",
            "54562/54562 [==============================] - 2s 40us/step - loss: 2.3675 - acc: 0.4169 - val_loss: 2.3977 - val_acc: 0.3988\n",
            "Epoch 17/50\n",
            "54562/54562 [==============================] - 2s 42us/step - loss: 2.3544 - acc: 0.4245 - val_loss: 2.3716 - val_acc: 0.4262\n",
            "Epoch 18/50\n",
            "54562/54562 [==============================] - 2s 41us/step - loss: 2.3400 - acc: 0.4300 - val_loss: 2.3932 - val_acc: 0.4048\n",
            "Epoch 19/50\n",
            "54562/54562 [==============================] - 2s 41us/step - loss: 2.3284 - acc: 0.4371 - val_loss: 2.3439 - val_acc: 0.4290\n",
            "Epoch 20/50\n",
            "54562/54562 [==============================] - 2s 39us/step - loss: 2.3189 - acc: 0.4405 - val_loss: 2.3294 - val_acc: 0.4341\n",
            "Epoch 21/50\n",
            "54562/54562 [==============================] - 2s 40us/step - loss: 2.3055 - acc: 0.4447 - val_loss: 2.3536 - val_acc: 0.4250\n",
            "Epoch 22/50\n",
            "54562/54562 [==============================] - 2s 42us/step - loss: 2.2969 - acc: 0.4486 - val_loss: 2.3283 - val_acc: 0.4449\n",
            "Epoch 23/50\n",
            "54562/54562 [==============================] - 2s 42us/step - loss: 2.2876 - acc: 0.4511 - val_loss: 2.3065 - val_acc: 0.4424\n",
            "Epoch 24/50\n",
            "54562/54562 [==============================] - 2s 40us/step - loss: 2.2811 - acc: 0.4548 - val_loss: 2.2954 - val_acc: 0.4566\n",
            "Epoch 25/50\n",
            "54562/54562 [==============================] - 2s 40us/step - loss: 2.2748 - acc: 0.4571 - val_loss: 2.2941 - val_acc: 0.4570\n",
            "Epoch 26/50\n",
            "54562/54562 [==============================] - 2s 41us/step - loss: 2.2664 - acc: 0.4608 - val_loss: 2.3177 - val_acc: 0.4353\n",
            "Epoch 27/50\n",
            "54562/54562 [==============================] - 2s 40us/step - loss: 2.2619 - acc: 0.4624 - val_loss: 2.3310 - val_acc: 0.4385\n",
            "Epoch 28/50\n",
            "54562/54562 [==============================] - 2s 40us/step - loss: 2.2574 - acc: 0.4627 - val_loss: 2.2757 - val_acc: 0.4615\n",
            "Epoch 29/50\n",
            "54562/54562 [==============================] - 2s 42us/step - loss: 2.2521 - acc: 0.4662 - val_loss: 2.2903 - val_acc: 0.4494\n",
            "Epoch 30/50\n",
            "54562/54562 [==============================] - 2s 42us/step - loss: 2.2467 - acc: 0.4689 - val_loss: 2.2637 - val_acc: 0.4693\n",
            "Epoch 31/50\n",
            "54562/54562 [==============================] - 2s 39us/step - loss: 2.2447 - acc: 0.4685 - val_loss: 2.2926 - val_acc: 0.4554\n",
            "Epoch 32/50\n",
            "54562/54562 [==============================] - 2s 39us/step - loss: 2.2388 - acc: 0.4719 - val_loss: 2.2868 - val_acc: 0.4527\n",
            "Epoch 33/50\n",
            "54562/54562 [==============================] - 2s 39us/step - loss: 2.2348 - acc: 0.4730 - val_loss: 2.3266 - val_acc: 0.4298\n",
            "Epoch 34/50\n",
            "54562/54562 [==============================] - 2s 40us/step - loss: 2.2315 - acc: 0.4748 - val_loss: 2.3138 - val_acc: 0.4418\n",
            "Epoch 35/50\n",
            "54562/54562 [==============================] - 2s 41us/step - loss: 2.2281 - acc: 0.4747 - val_loss: 2.3591 - val_acc: 0.4359\n",
            "Epoch 36/50\n",
            "54562/54562 [==============================] - 2s 41us/step - loss: 2.2251 - acc: 0.4766 - val_loss: 2.3693 - val_acc: 0.4216\n",
            "Epoch 37/50\n",
            "54562/54562 [==============================] - 2s 40us/step - loss: 2.2234 - acc: 0.4785 - val_loss: 2.3411 - val_acc: 0.4389\n",
            "Epoch 38/50\n",
            "54562/54562 [==============================] - 2s 40us/step - loss: 2.2184 - acc: 0.4806 - val_loss: 2.2400 - val_acc: 0.4757\n",
            "Epoch 39/50\n",
            "54562/54562 [==============================] - 2s 41us/step - loss: 2.2166 - acc: 0.4813 - val_loss: 2.3526 - val_acc: 0.4344\n",
            "Epoch 40/50\n",
            "54562/54562 [==============================] - 2s 42us/step - loss: 2.2138 - acc: 0.4819 - val_loss: 2.3326 - val_acc: 0.4320\n",
            "Epoch 41/50\n",
            "54562/54562 [==============================] - 2s 40us/step - loss: 2.2129 - acc: 0.4815 - val_loss: 2.2473 - val_acc: 0.4752\n",
            "Epoch 42/50\n",
            "54562/54562 [==============================] - 2s 39us/step - loss: 2.2111 - acc: 0.4846 - val_loss: 2.2620 - val_acc: 0.4692\n",
            "Epoch 43/50\n",
            "54562/54562 [==============================] - 2s 40us/step - loss: 2.2081 - acc: 0.4833 - val_loss: 2.3004 - val_acc: 0.4416\n",
            "Epoch 44/50\n",
            "54562/54562 [==============================] - 2s 40us/step - loss: 2.2062 - acc: 0.4858 - val_loss: 2.3115 - val_acc: 0.4489\n",
            "Epoch 45/50\n",
            "54562/54562 [==============================] - 2s 39us/step - loss: 2.2048 - acc: 0.4865 - val_loss: 2.2442 - val_acc: 0.4760\n",
            "Epoch 46/50\n",
            "54562/54562 [==============================] - 2s 39us/step - loss: 2.2027 - acc: 0.4885 - val_loss: 2.2804 - val_acc: 0.4549\n",
            "Epoch 47/50\n",
            "54562/54562 [==============================] - 2s 41us/step - loss: 2.2004 - acc: 0.4879 - val_loss: 2.2322 - val_acc: 0.4782\n",
            "Epoch 48/50\n",
            "54562/54562 [==============================] - 2s 41us/step - loss: 2.1986 - acc: 0.4893 - val_loss: 2.2499 - val_acc: 0.4686\n",
            "Epoch 49/50\n",
            "54562/54562 [==============================] - 2s 39us/step - loss: 2.1978 - acc: 0.4896 - val_loss: 2.2878 - val_acc: 0.4569\n",
            "Epoch 50/50\n",
            "54562/54562 [==============================] - 2s 40us/step - loss: 2.1952 - acc: 0.4917 - val_loss: 2.2297 - val_acc: 0.4747\n"
          ],
          "name": "stdout"
        }
      ]
    },
    {
      "cell_type": "code",
      "metadata": {
        "id": "rfLyLslhHqoJ",
        "colab_type": "code",
        "outputId": "fe879cad-176b-49c3-87d4-f1720f4f3b00",
        "colab": {
          "base_uri": "https://localhost:8080/",
          "height": 317
        }
      },
      "source": [
        "plt.plot(range(1,51),rnn_training.history[\"acc\"],label='training')\n",
        "plt.plot(range(1,51),rnn_training.history['val_acc'],label='test')\n",
        "plt.title('Training and validation accuracy')\n",
        "plt.legend(loc = 'lower right')\n",
        "plt.figure()"
      ],
      "execution_count": 0,
      "outputs": [
        {
          "output_type": "execute_result",
          "data": {
            "text/plain": [
              "<Figure size 432x288 with 0 Axes>"
            ]
          },
          "metadata": {
            "tags": []
          },
          "execution_count": 17
        },
        {
          "output_type": "display_data",
          "data": {
            "image/png": "[encoded data removed]",
            "text/plain": [
              "<Figure size 432x288 with 1 Axes>"
            ]
          },
          "metadata": {
            "tags": []
          }
        },
        {
          "output_type": "display_data",
          "data": {
            "text/plain": [
              "<Figure size 432x288 with 0 Axes>"
            ]
          },
          "metadata": {
            "tags": []
          }
        }
      ]
    },
    {
      "cell_type": "code",
      "metadata": {
        "id": "G6WY3VatHqlf",
        "colab_type": "code",
        "outputId": "21102728-2c23-493f-d731-991b7c84e819",
        "colab": {
          "base_uri": "https://localhost:8080/",
          "height": 317
        }
      },
      "source": [
        "plt.plot(range(1,51),rnn_training.history[\"loss\"],label='training')\n",
        "plt.plot(range(1,51),rnn_training.history['val_loss'],label='test')\n",
        "plt.title('Training and validation loss')\n",
        "plt.legend(loc = 'upper right')\n",
        "plt.figure()"
      ],
      "execution_count": 0,
      "outputs": [
        {
          "output_type": "execute_result",
          "data": {
            "text/plain": [
              "<Figure size 432x288 with 0 Axes>"
            ]
          },
          "metadata": {
            "tags": []
          },
          "execution_count": 18
        },
        {
          "output_type": "display_data",
          "data": {
            "image/png": "[encoded data removed]",
            "text/plain": [
              "<Figure size 432x288 with 1 Axes>"
            ]
          },
          "metadata": {
            "tags": []
          }
        },
        {
          "output_type": "display_data",
          "data": {
            "text/plain": [
              "<Figure size 432x288 with 0 Axes>"
            ]
          },
          "metadata": {
            "tags": []
          }
        }
      ]
    },
    {
      "cell_type": "markdown",
      "metadata": {
        "id": "pHYMaZdlKjt3",
        "colab_type": "text"
      },
      "source": [
        "3.2 CNN"
      ]
    },
    {
      "cell_type": "code",
      "metadata": {
        "id": "mEw8NpL8HqjG",
        "colab_type": "code",
        "outputId": "d08ec9d5-be75-42ce-8e80-e5aaee06fc74",
        "colab": {
          "base_uri": "https://localhost:8080/",
          "height": 1000
        }
      },
      "source": [
        "from keras.layers import Dense, Flatten, LSTM, Conv1D, MaxPooling1D, Dropout, Activation, GlobalMaxPooling1D\n",
        "max_features = 15\n",
        "cnn = Sequential()\n",
        "cnn.add(Embedding(max_features, 64))\n",
        "cnn.add(Dropout(0.25))\n",
        "cnn.add(Conv1D(64, 5, activation='relu'))\n",
        "cnn.add(GlobalMaxPooling1D())\n",
        "cnn.add(Dense(15, activation='softmax'))\n",
        "cnn.compile(loss='categorical_crossentropy', optimizer='adam',    metrics=['accuracy'])\n",
        "\n",
        "cnn_training = cnn.fit(X_train, y_train, epochs=50, batch_size=256, validation_data=(X_test, y_test))"
      ],
      "execution_count": 0,
      "outputs": [
        {
          "output_type": "stream",
          "text": [
            "WARNING:tensorflow:From /usr/local/lib/python3.6/dist-packages/keras/backend/tensorflow_backend.py:148: The name tf.placeholder_with_default is deprecated. Please use tf.compat.v1.placeholder_with_default instead.\n",
            "\n",
            "WARNING:tensorflow:From /usr/local/lib/python3.6/dist-packages/keras/backend/tensorflow_backend.py:3733: calling dropout (from tensorflow.python.ops.nn_ops) with keep_prob is deprecated and will be removed in a future version.\n",
            "Instructions for updating:\n",
            "Please use `rate` instead of `keep_prob`. Rate should be set to `rate = 1 - keep_prob`.\n",
            "Train on 54562 samples, validate on 23384 samples\n",
            "Epoch 1/50\n",
            "54562/54562 [==============================] - 4s 71us/step - loss: 2.5078 - acc: 0.3783 - val_loss: 2.2463 - val_acc: 0.4654\n",
            "Epoch 2/50\n",
            "54562/54562 [==============================] - 1s 17us/step - loss: 2.1980 - acc: 0.4904 - val_loss: 2.1446 - val_acc: 0.5078\n",
            "Epoch 3/50\n",
            "54562/54562 [==============================] - 1s 17us/step - loss: 2.1321 - acc: 0.5141 - val_loss: 2.1031 - val_acc: 0.5270\n",
            "Epoch 4/50\n",
            "54562/54562 [==============================] - 1s 16us/step - loss: 2.1024 - acc: 0.5256 - val_loss: 2.0849 - val_acc: 0.5277\n",
            "Epoch 5/50\n",
            "54562/54562 [==============================] - 1s 17us/step - loss: 2.0835 - acc: 0.5298 - val_loss: 2.0682 - val_acc: 0.5314\n",
            "Epoch 6/50\n",
            "54562/54562 [==============================] - 1s 16us/step - loss: 2.0707 - acc: 0.5339 - val_loss: 2.0568 - val_acc: 0.5385\n",
            "Epoch 7/50\n",
            "54562/54562 [==============================] - 1s 17us/step - loss: 2.0582 - acc: 0.5389 - val_loss: 2.0482 - val_acc: 0.5402\n",
            "Epoch 8/50\n",
            "54562/54562 [==============================] - 1s 16us/step - loss: 2.0503 - acc: 0.5404 - val_loss: 2.0452 - val_acc: 0.5418\n",
            "Epoch 9/50\n",
            "54562/54562 [==============================] - 1s 17us/step - loss: 2.0435 - acc: 0.5406 - val_loss: 2.0370 - val_acc: 0.5417\n",
            "Epoch 10/50\n",
            "54562/54562 [==============================] - 1s 17us/step - loss: 2.0357 - acc: 0.5416 - val_loss: 2.0348 - val_acc: 0.5400\n",
            "Epoch 11/50\n",
            "54562/54562 [==============================] - 1s 17us/step - loss: 2.0332 - acc: 0.5433 - val_loss: 2.0316 - val_acc: 0.5463\n",
            "Epoch 12/50\n",
            "54562/54562 [==============================] - 1s 17us/step - loss: 2.0281 - acc: 0.5443 - val_loss: 2.0290 - val_acc: 0.5426\n",
            "Epoch 13/50\n",
            "54562/54562 [==============================] - 1s 17us/step - loss: 2.0251 - acc: 0.5455 - val_loss: 2.0250 - val_acc: 0.5473\n",
            "Epoch 14/50\n",
            "54562/54562 [==============================] - 1s 16us/step - loss: 2.0198 - acc: 0.5459 - val_loss: 2.0209 - val_acc: 0.5430\n",
            "Epoch 15/50\n",
            "54562/54562 [==============================] - 1s 15us/step - loss: 2.0182 - acc: 0.5487 - val_loss: 2.0174 - val_acc: 0.5439\n",
            "Epoch 16/50\n",
            "54562/54562 [==============================] - 1s 15us/step - loss: 2.0137 - acc: 0.5471 - val_loss: 2.0167 - val_acc: 0.5457\n",
            "Epoch 17/50\n",
            "54562/54562 [==============================] - 1s 15us/step - loss: 2.0130 - acc: 0.5479 - val_loss: 2.0162 - val_acc: 0.5456\n",
            "Epoch 18/50\n",
            "54562/54562 [==============================] - 1s 16us/step - loss: 2.0094 - acc: 0.5482 - val_loss: 2.0137 - val_acc: 0.5447\n",
            "Epoch 19/50\n",
            "54562/54562 [==============================] - 1s 16us/step - loss: 2.0066 - acc: 0.5505 - val_loss: 2.0145 - val_acc: 0.5472\n",
            "Epoch 20/50\n",
            "54562/54562 [==============================] - 1s 16us/step - loss: 2.0055 - acc: 0.5495 - val_loss: 2.0109 - val_acc: 0.5468\n",
            "Epoch 21/50\n",
            "54562/54562 [==============================] - 1s 16us/step - loss: 2.0032 - acc: 0.5506 - val_loss: 2.0115 - val_acc: 0.5479\n",
            "Epoch 22/50\n",
            "54562/54562 [==============================] - 1s 16us/step - loss: 2.0011 - acc: 0.5490 - val_loss: 2.0099 - val_acc: 0.5464\n",
            "Epoch 23/50\n",
            "54562/54562 [==============================] - 1s 15us/step - loss: 2.0005 - acc: 0.5498 - val_loss: 2.0098 - val_acc: 0.5495\n",
            "Epoch 24/50\n",
            "54562/54562 [==============================] - 1s 15us/step - loss: 1.9993 - acc: 0.5520 - val_loss: 2.0091 - val_acc: 0.5479\n",
            "Epoch 25/50\n",
            "54562/54562 [==============================] - 1s 16us/step - loss: 1.9969 - acc: 0.5533 - val_loss: 2.0068 - val_acc: 0.5488\n",
            "Epoch 26/50\n",
            "54562/54562 [==============================] - 1s 15us/step - loss: 1.9966 - acc: 0.5530 - val_loss: 2.0096 - val_acc: 0.5439\n",
            "Epoch 27/50\n",
            "54562/54562 [==============================] - 1s 16us/step - loss: 1.9949 - acc: 0.5512 - val_loss: 2.0038 - val_acc: 0.5468\n",
            "Epoch 28/50\n",
            "54562/54562 [==============================] - 1s 16us/step - loss: 1.9922 - acc: 0.5531 - val_loss: 2.0063 - val_acc: 0.5470\n",
            "Epoch 29/50\n",
            "54562/54562 [==============================] - 1s 15us/step - loss: 1.9915 - acc: 0.5532 - val_loss: 2.0032 - val_acc: 0.5476\n",
            "Epoch 30/50\n",
            "54562/54562 [==============================] - 1s 15us/step - loss: 1.9893 - acc: 0.5537 - val_loss: 2.0052 - val_acc: 0.5465\n",
            "Epoch 31/50\n",
            "54562/54562 [==============================] - 1s 15us/step - loss: 1.9896 - acc: 0.5538 - val_loss: 2.0017 - val_acc: 0.5479\n",
            "Epoch 32/50\n",
            "54562/54562 [==============================] - 1s 16us/step - loss: 1.9873 - acc: 0.5539 - val_loss: 2.0040 - val_acc: 0.5448\n",
            "Epoch 33/50\n",
            "54562/54562 [==============================] - 1s 16us/step - loss: 1.9870 - acc: 0.5519 - val_loss: 2.0012 - val_acc: 0.5485\n",
            "Epoch 34/50\n",
            "54562/54562 [==============================] - 1s 15us/step - loss: 1.9842 - acc: 0.5544 - val_loss: 2.0006 - val_acc: 0.5459\n",
            "Epoch 35/50\n",
            "54562/54562 [==============================] - 1s 16us/step - loss: 1.9851 - acc: 0.5543 - val_loss: 2.0002 - val_acc: 0.5513\n",
            "Epoch 36/50\n",
            "54562/54562 [==============================] - 1s 16us/step - loss: 1.9844 - acc: 0.5535 - val_loss: 1.9992 - val_acc: 0.5518\n",
            "Epoch 37/50\n",
            "54562/54562 [==============================] - 1s 16us/step - loss: 1.9816 - acc: 0.5549 - val_loss: 2.0033 - val_acc: 0.5453\n",
            "Epoch 38/50\n",
            "54562/54562 [==============================] - 1s 16us/step - loss: 1.9813 - acc: 0.5538 - val_loss: 2.0006 - val_acc: 0.5434\n",
            "Epoch 39/50\n",
            "54562/54562 [==============================] - 1s 15us/step - loss: 1.9818 - acc: 0.5560 - val_loss: 2.0012 - val_acc: 0.5433\n",
            "Epoch 40/50\n",
            "54562/54562 [==============================] - 1s 16us/step - loss: 1.9803 - acc: 0.5556 - val_loss: 1.9960 - val_acc: 0.5485\n",
            "Epoch 41/50\n",
            "54562/54562 [==============================] - 1s 15us/step - loss: 1.9791 - acc: 0.5567 - val_loss: 1.9979 - val_acc: 0.5480\n",
            "Epoch 42/50\n",
            "54562/54562 [==============================] - 1s 15us/step - loss: 1.9774 - acc: 0.5563 - val_loss: 1.9944 - val_acc: 0.5481\n",
            "Epoch 43/50\n",
            "54562/54562 [==============================] - 1s 15us/step - loss: 1.9778 - acc: 0.5569 - val_loss: 2.0001 - val_acc: 0.5482\n",
            "Epoch 44/50\n",
            "54562/54562 [==============================] - 1s 15us/step - loss: 1.9775 - acc: 0.5556 - val_loss: 1.9962 - val_acc: 0.5490\n",
            "Epoch 45/50\n",
            "54562/54562 [==============================] - 1s 16us/step - loss: 1.9766 - acc: 0.5561 - val_loss: 1.9961 - val_acc: 0.5495\n",
            "Epoch 46/50\n",
            "54562/54562 [==============================] - 1s 16us/step - loss: 1.9750 - acc: 0.5568 - val_loss: 1.9949 - val_acc: 0.5520\n",
            "Epoch 47/50\n",
            "54562/54562 [==============================] - 1s 15us/step - loss: 1.9759 - acc: 0.5568 - val_loss: 1.9946 - val_acc: 0.5509\n",
            "Epoch 48/50\n",
            "54562/54562 [==============================] - 1s 16us/step - loss: 1.9742 - acc: 0.5563 - val_loss: 1.9933 - val_acc: 0.5491\n",
            "Epoch 49/50\n",
            "54562/54562 [==============================] - 1s 16us/step - loss: 1.9738 - acc: 0.5567 - val_loss: 1.9944 - val_acc: 0.5559\n",
            "Epoch 50/50\n",
            "54562/54562 [==============================] - 1s 16us/step - loss: 1.9752 - acc: 0.5564 - val_loss: 1.9945 - val_acc: 0.5549\n"
          ],
          "name": "stdout"
        }
      ]
    },
    {
      "cell_type": "code",
      "metadata": {
        "id": "mU-TU6xUHqfo",
        "colab_type": "code",
        "outputId": "264cc73f-cbc5-4e64-9f50-dcec12493070",
        "colab": {
          "base_uri": "https://localhost:8080/",
          "height": 317
        }
      },
      "source": [
        "plt.plot(range(1,51),cnn_training.history[\"acc\"],label='training')\n",
        "plt.plot(range(1,51),cnn_training.history['val_acc'],label='test')\n",
        "plt.title('Training and validation accuracy')\n",
        "plt.legend(loc = 'lower right')\n",
        "plt.figure()"
      ],
      "execution_count": 0,
      "outputs": [
        {
          "output_type": "execute_result",
          "data": {
            "text/plain": [
              "<Figure size 432x288 with 0 Axes>"
            ]
          },
          "metadata": {
            "tags": []
          },
          "execution_count": 20
        },
        {
          "output_type": "display_data",
          "data": {
            "image/png": "[encoded data removed]",
            "text/plain": [
              "<Figure size 432x288 with 1 Axes>"
            ]
          },
          "metadata": {
            "tags": []
          }
        },
        {
          "output_type": "display_data",
          "data": {
            "text/plain": [
              "<Figure size 432x288 with 0 Axes>"
            ]
          },
          "metadata": {
            "tags": []
          }
        }
      ]
    },
    {
      "cell_type": "code",
      "metadata": {
        "id": "ujSdUfF0HqbF",
        "colab_type": "code",
        "outputId": "81096627-d571-4b3c-dfca-fb097aee6e59",
        "colab": {
          "base_uri": "https://localhost:8080/",
          "height": 317
        }
      },
      "source": [
        "plt.plot(range(1,51),cnn_training.history[\"loss\"],label='training')\n",
        "plt.plot(range(1,51),cnn_training.history['val_loss'],label='test')\n",
        "plt.title('Training and validation loss')\n",
        "plt.legend(loc = 'upper right')\n",
        "plt.figure()"
      ],
      "execution_count": 0,
      "outputs": [
        {
          "output_type": "execute_result",
          "data": {
            "text/plain": [
              "<Figure size 432x288 with 0 Axes>"
            ]
          },
          "metadata": {
            "tags": []
          },
          "execution_count": 21
        },
        {
          "output_type": "display_data",
          "data": {
            "image/png": "[encoded data removed]",
            "text/plain": [
              "<Figure size 432x288 with 1 Axes>"
            ]
          },
          "metadata": {
            "tags": []
          }
        },
        {
          "output_type": "display_data",
          "data": {
            "text/plain": [
              "<Figure size 432x288 with 0 Axes>"
            ]
          },
          "metadata": {
            "tags": []
          }
        }
      ]
    },
    {
      "cell_type": "markdown",
      "metadata": {
        "id": "g47KqrXrLEju",
        "colab_type": "text"
      },
      "source": [
        "3.3 Compare CNN and RNN"
      ]
    },
    {
      "cell_type": "code",
      "metadata": {
        "id": "xmqu9sxcLFcR",
        "colab_type": "code",
        "outputId": "78497463-2a38-42c9-e5a2-0a8ed12412c6",
        "colab": {
          "base_uri": "https://localhost:8080/",
          "height": 317
        }
      },
      "source": [
        "plt.plot(range(1,51),rnn_training.history[\"acc\"],label='rnn training',color='b')\n",
        "plt.plot(range(1,51),rnn_training.history['val_acc'],label='rnn test',linestyle='dashed',color='b')\n",
        "plt.plot(range(1,51),cnn_training.history[\"acc\"],label='cnn training',color='orange')\n",
        "plt.plot(range(1,51),cnn_training.history['val_acc'],label='cnn test',linestyle='dashed',color='orange')\n",
        "plt.legend(loc = 'best')\n",
        "plt.title('RNN and CNN training and validation accuracy')\n",
        "plt.figure()"
      ],
      "execution_count": 0,
      "outputs": [
        {
          "output_type": "execute_result",
          "data": {
            "text/plain": [
              "<Figure size 432x288 with 0 Axes>"
            ]
          },
          "metadata": {
            "tags": []
          },
          "execution_count": 23
        },
        {
          "output_type": "display_data",
          "data": {
            "image/png": "[encoded data removed]",
            "text/plain": [
              "<Figure size 432x288 with 1 Axes>"
            ]
          },
          "metadata": {
            "tags": []
          }
        },
        {
          "output_type": "display_data",
          "data": {
            "text/plain": [
              "<Figure size 432x288 with 0 Axes>"
            ]
          },
          "metadata": {
            "tags": []
          }
        }
      ]
    },
    {
      "cell_type": "code",
      "metadata": {
        "id": "ES4QeS3aLFY6",
        "colab_type": "code",
        "outputId": "5a175f0b-9f31-49e0-abcb-b331483ed12a",
        "colab": {
          "base_uri": "https://localhost:8080/",
          "height": 317
        }
      },
      "source": [
        "plt.plot(range(1,51),rnn_training.history[\"loss\"],label='rnn training',color='b')\n",
        "plt.plot(range(1,51),rnn_training.history['val_loss'],label='rnn test',linestyle='dashed',color='b')\n",
        "plt.plot(range(1,51),cnn_training.history[\"loss\"],label='cnn training',color='orange')\n",
        "plt.plot(range(1,51),cnn_training.history['val_loss'],label='cnn test',linestyle='dashed',color='orange')\n",
        "plt.legend(loc = 'best')\n",
        "plt.title('RNN and CNN training and validation loss')\n",
        "plt.figure()"
      ],
      "execution_count": 0,
      "outputs": [
        {
          "output_type": "execute_result",
          "data": {
            "text/plain": [
              "<Figure size 432x288 with 0 Axes>"
            ]
          },
          "metadata": {
            "tags": []
          },
          "execution_count": 24
        },
        {
          "output_type": "display_data",
          "data": {
            "image/png": "[encoded data removed]",
            "text/plain": [
              "<Figure size 432x288 with 1 Axes>"
            ]
          },
          "metadata": {
            "tags": []
          }
        },
        {
          "output_type": "display_data",
          "data": {
            "text/plain": [
              "<Figure size 432x288 with 0 Axes>"
            ]
          },
          "metadata": {
            "tags": []
          }
        }
      ]
    },
    {
      "cell_type": "code",
      "metadata": {
        "id": "tMbs8vmrLFU5",
        "colab_type": "code",
        "colab": {}
      },
      "source": [
        ""
      ],
      "execution_count": 0,
      "outputs": []
    },
    {
      "cell_type": "code",
      "metadata": {
        "id": "1c4sKdxZLFR8",
        "colab_type": "code",
        "colab": {}
      },
      "source": [
        ""
      ],
      "execution_count": 0,
      "outputs": []
    },
    {
      "cell_type": "code",
      "metadata": {
        "id": "x9Y4MdOzLFPD",
        "colab_type": "code",
        "colab": {}
      },
      "source": [
        ""
      ],
      "execution_count": 0,
      "outputs": []
    },
    {
      "cell_type": "code",
      "metadata": {
        "id": "X3W0KIOhLFLI",
        "colab_type": "code",
        "colab": {}
      },
      "source": [
        ""
      ],
      "execution_count": 0,
      "outputs": []
    },
    {
      "cell_type": "code",
      "metadata": {
        "id": "FR-Gz8AFLFH8",
        "colab_type": "code",
        "colab": {}
      },
      "source": [
        ""
      ],
      "execution_count": 0,
      "outputs": []
    }
  ]
}